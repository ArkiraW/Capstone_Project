{
 "cells": [
  {
   "cell_type": "markdown",
   "id": "eadc6b1f-05dd-40e7-98fc-a7a9ab4a439f",
   "metadata": {},
   "source": [
    "# Import"
   ]
  },
  {
   "cell_type": "code",
   "execution_count": 36,
   "id": "8ac38fe7-bb2e-4e49-ab83-4b5e2603e6a0",
   "metadata": {},
   "outputs": [],
   "source": [
    "import pandas as pd\n",
    "import numpy as np\n",
    "import matplotlib.pyplot as plt\n",
    "import tensorflow as tf\n",
    "import itertools\n",
    "import keras\n",
    "import keras_tuner as kt\n",
    "import statsmodels.api as sm\n",
    "\n",
    "\n",
    "from sklearn.model_selection import train_test_split\n",
    "from sklearn.metrics import mean_squared_error\n",
    "\n",
    "from statsmodels.tsa.seasonal import seasonal_decompose\n",
    "from statsmodels.graphics.tsaplots import plot_acf, plot_pacf\n",
    "from statsmodels.tsa.stattools import adfuller\n",
    "from statsmodels.tsa.arima.model import ARIMA\n",
    "from statsmodels.tsa.statespace.sarimax import SARIMAX\n",
    "\n",
    "from pmdarima import auto_arima\n",
    "from tensorflow.keras import Sequential\n",
    "from tensorflow.keras.layers import LSTM, Dense, Dropout\n",
    "from keras_tuner import Hyperband\n",
    "from keras.models import load_model"
   ]
  },
  {
   "cell_type": "code",
   "execution_count": 38,
   "id": "7d07aa1f-8d29-4bb7-813b-7d5ecf5bcafc",
   "metadata": {},
   "outputs": [
    {
     "data": {
      "text/html": [
       "<div>\n",
       "<style scoped>\n",
       "    .dataframe tbody tr th:only-of-type {\n",
       "        vertical-align: middle;\n",
       "    }\n",
       "\n",
       "    .dataframe tbody tr th {\n",
       "        vertical-align: top;\n",
       "    }\n",
       "\n",
       "    .dataframe thead th {\n",
       "        text-align: right;\n",
       "    }\n",
       "</style>\n",
       "<table border=\"1\" class=\"dataframe\">\n",
       "  <thead>\n",
       "    <tr style=\"text-align: right;\">\n",
       "      <th></th>\n",
       "      <th>nonglu_price</th>\n",
       "      <th>hommali_price</th>\n",
       "      <th>agri_prod_index</th>\n",
       "      <th>crops_prod_index</th>\n",
       "      <th>paddy_prod_index</th>\n",
       "      <th>nonglu_prod_index</th>\n",
       "      <th>hommali_prod_index</th>\n",
       "      <th>agri_price_index</th>\n",
       "      <th>crops_price_index</th>\n",
       "      <th>paddy_price_index</th>\n",
       "      <th>...</th>\n",
       "      <th>water_station_M7</th>\n",
       "      <th>water_station_N1</th>\n",
       "      <th>water_station_N67</th>\n",
       "      <th>water_station_Ny1B</th>\n",
       "      <th>water_station_P1</th>\n",
       "      <th>water_station_P17</th>\n",
       "      <th>water_station_S4B</th>\n",
       "      <th>water_station_Sw5A</th>\n",
       "      <th>water_station_Y17</th>\n",
       "      <th>water_station_Y1C</th>\n",
       "    </tr>\n",
       "    <tr>\n",
       "      <th>date</th>\n",
       "      <th></th>\n",
       "      <th></th>\n",
       "      <th></th>\n",
       "      <th></th>\n",
       "      <th></th>\n",
       "      <th></th>\n",
       "      <th></th>\n",
       "      <th></th>\n",
       "      <th></th>\n",
       "      <th></th>\n",
       "      <th></th>\n",
       "      <th></th>\n",
       "      <th></th>\n",
       "      <th></th>\n",
       "      <th></th>\n",
       "      <th></th>\n",
       "      <th></th>\n",
       "      <th></th>\n",
       "      <th></th>\n",
       "      <th></th>\n",
       "      <th></th>\n",
       "    </tr>\n",
       "  </thead>\n",
       "  <tbody>\n",
       "    <tr>\n",
       "      <th>2006-01-01</th>\n",
       "      <td>6696.0</td>\n",
       "      <td>7628.0</td>\n",
       "      <td>109.703894</td>\n",
       "      <td>114.011647</td>\n",
       "      <td>43.580672</td>\n",
       "      <td>72.649707</td>\n",
       "      <td>8.077559</td>\n",
       "      <td>110.377654</td>\n",
       "      <td>113.821771</td>\n",
       "      <td>100.581118</td>\n",
       "      <td>...</td>\n",
       "      <td>140.50</td>\n",
       "      <td>66.17</td>\n",
       "      <td>520.00</td>\n",
       "      <td>26.85</td>\n",
       "      <td>38.96</td>\n",
       "      <td>679.63</td>\n",
       "      <td>6.23</td>\n",
       "      <td>97.92</td>\n",
       "      <td>1.24</td>\n",
       "      <td>20.25</td>\n",
       "    </tr>\n",
       "    <tr>\n",
       "      <th>2006-02-01</th>\n",
       "      <td>6633.0</td>\n",
       "      <td>7873.0</td>\n",
       "      <td>93.049409</td>\n",
       "      <td>91.755084</td>\n",
       "      <td>46.062229</td>\n",
       "      <td>85.832560</td>\n",
       "      <td>0.000000</td>\n",
       "      <td>111.337228</td>\n",
       "      <td>115.390439</td>\n",
       "      <td>101.563145</td>\n",
       "      <td>...</td>\n",
       "      <td>87.75</td>\n",
       "      <td>39.02</td>\n",
       "      <td>501.32</td>\n",
       "      <td>26.22</td>\n",
       "      <td>64.11</td>\n",
       "      <td>573.91</td>\n",
       "      <td>4.69</td>\n",
       "      <td>69.55</td>\n",
       "      <td>0.00</td>\n",
       "      <td>13.07</td>\n",
       "    </tr>\n",
       "    <tr>\n",
       "      <th>2006-03-01</th>\n",
       "      <td>6649.0</td>\n",
       "      <td>7960.0</td>\n",
       "      <td>92.803780</td>\n",
       "      <td>87.828340</td>\n",
       "      <td>74.516499</td>\n",
       "      <td>138.854375</td>\n",
       "      <td>0.000000</td>\n",
       "      <td>112.498075</td>\n",
       "      <td>117.876876</td>\n",
       "      <td>103.063764</td>\n",
       "      <td>...</td>\n",
       "      <td>108.95</td>\n",
       "      <td>20.94</td>\n",
       "      <td>558.72</td>\n",
       "      <td>42.23</td>\n",
       "      <td>68.26</td>\n",
       "      <td>523.38</td>\n",
       "      <td>2.23</td>\n",
       "      <td>60.02</td>\n",
       "      <td>2.32</td>\n",
       "      <td>35.51</td>\n",
       "    </tr>\n",
       "    <tr>\n",
       "      <th>2006-04-01</th>\n",
       "      <td>6880.0</td>\n",
       "      <td>8028.0</td>\n",
       "      <td>75.452369</td>\n",
       "      <td>67.662286</td>\n",
       "      <td>66.215260</td>\n",
       "      <td>123.385807</td>\n",
       "      <td>0.000000</td>\n",
       "      <td>115.595159</td>\n",
       "      <td>121.878356</td>\n",
       "      <td>104.906097</td>\n",
       "      <td>...</td>\n",
       "      <td>188.40</td>\n",
       "      <td>45.73</td>\n",
       "      <td>692.79</td>\n",
       "      <td>61.08</td>\n",
       "      <td>84.68</td>\n",
       "      <td>508.65</td>\n",
       "      <td>0.06</td>\n",
       "      <td>76.80</td>\n",
       "      <td>5.84</td>\n",
       "      <td>31.54</td>\n",
       "    </tr>\n",
       "    <tr>\n",
       "      <th>2006-05-01</th>\n",
       "      <td>6782.0</td>\n",
       "      <td>8069.0</td>\n",
       "      <td>77.366260</td>\n",
       "      <td>68.992476</td>\n",
       "      <td>35.785484</td>\n",
       "      <td>66.682829</td>\n",
       "      <td>0.000000</td>\n",
       "      <td>113.408937</td>\n",
       "      <td>119.725058</td>\n",
       "      <td>104.687875</td>\n",
       "      <td>...</td>\n",
       "      <td>270.30</td>\n",
       "      <td>94.19</td>\n",
       "      <td>1027.25</td>\n",
       "      <td>44.98</td>\n",
       "      <td>146.19</td>\n",
       "      <td>1092.68</td>\n",
       "      <td>34.64</td>\n",
       "      <td>88.76</td>\n",
       "      <td>168.17</td>\n",
       "      <td>268.37</td>\n",
       "    </tr>\n",
       "  </tbody>\n",
       "</table>\n",
       "<p>5 rows × 49 columns</p>\n",
       "</div>"
      ],
      "text/plain": [
       "            nonglu_price  hommali_price  agri_prod_index  crops_prod_index  \\\n",
       "date                                                                         \n",
       "2006-01-01        6696.0         7628.0       109.703894        114.011647   \n",
       "2006-02-01        6633.0         7873.0        93.049409         91.755084   \n",
       "2006-03-01        6649.0         7960.0        92.803780         87.828340   \n",
       "2006-04-01        6880.0         8028.0        75.452369         67.662286   \n",
       "2006-05-01        6782.0         8069.0        77.366260         68.992476   \n",
       "\n",
       "            paddy_prod_index  nonglu_prod_index  hommali_prod_index  \\\n",
       "date                                                                  \n",
       "2006-01-01         43.580672          72.649707            8.077559   \n",
       "2006-02-01         46.062229          85.832560            0.000000   \n",
       "2006-03-01         74.516499         138.854375            0.000000   \n",
       "2006-04-01         66.215260         123.385807            0.000000   \n",
       "2006-05-01         35.785484          66.682829            0.000000   \n",
       "\n",
       "            agri_price_index  crops_price_index  paddy_price_index  ...  \\\n",
       "date                                                                ...   \n",
       "2006-01-01        110.377654         113.821771         100.581118  ...   \n",
       "2006-02-01        111.337228         115.390439         101.563145  ...   \n",
       "2006-03-01        112.498075         117.876876         103.063764  ...   \n",
       "2006-04-01        115.595159         121.878356         104.906097  ...   \n",
       "2006-05-01        113.408937         119.725058         104.687875  ...   \n",
       "\n",
       "            water_station_M7  water_station_N1  water_station_N67  \\\n",
       "date                                                                \n",
       "2006-01-01            140.50             66.17             520.00   \n",
       "2006-02-01             87.75             39.02             501.32   \n",
       "2006-03-01            108.95             20.94             558.72   \n",
       "2006-04-01            188.40             45.73             692.79   \n",
       "2006-05-01            270.30             94.19            1027.25   \n",
       "\n",
       "            water_station_Ny1B  water_station_P1  water_station_P17  \\\n",
       "date                                                                  \n",
       "2006-01-01               26.85             38.96             679.63   \n",
       "2006-02-01               26.22             64.11             573.91   \n",
       "2006-03-01               42.23             68.26             523.38   \n",
       "2006-04-01               61.08             84.68             508.65   \n",
       "2006-05-01               44.98            146.19            1092.68   \n",
       "\n",
       "            water_station_S4B  water_station_Sw5A  water_station_Y17  \\\n",
       "date                                                                   \n",
       "2006-01-01               6.23               97.92               1.24   \n",
       "2006-02-01               4.69               69.55               0.00   \n",
       "2006-03-01               2.23               60.02               2.32   \n",
       "2006-04-01               0.06               76.80               5.84   \n",
       "2006-05-01              34.64               88.76             168.17   \n",
       "\n",
       "            water_station_Y1C  \n",
       "date                           \n",
       "2006-01-01              20.25  \n",
       "2006-02-01              13.07  \n",
       "2006-03-01              35.51  \n",
       "2006-04-01              31.54  \n",
       "2006-05-01             268.37  \n",
       "\n",
       "[5 rows x 49 columns]"
      ]
     },
     "execution_count": 38,
     "metadata": {},
     "output_type": "execute_result"
    }
   ],
   "source": [
    "df = pd.read_csv('../data/cleaned_data/master.csv',index_col=0)\n",
    "df.head()"
   ]
  },
  {
   "cell_type": "code",
   "execution_count": 40,
   "id": "e4d8902f-c06b-4cb0-9b68-5fcb2ab9f567",
   "metadata": {},
   "outputs": [],
   "source": [
    "# Set index as datetime\n",
    "df.index = pd.to_datetime(df.index,format=\"%Y-%m-%d\")"
   ]
  },
  {
   "cell_type": "code",
   "execution_count": 42,
   "id": "189f9f2a-d6d1-43da-a8cf-32350f0f8f93",
   "metadata": {},
   "outputs": [
    {
     "data": {
      "text/plain": [
       "float64    49\n",
       "Name: count, dtype: int64"
      ]
     },
     "execution_count": 42,
     "metadata": {},
     "output_type": "execute_result"
    }
   ],
   "source": [
    "# Check type of value\n",
    "df.dtypes.value_counts()"
   ]
  },
  {
   "cell_type": "code",
   "execution_count": 44,
   "id": "d2c0c2bf-2d13-49f3-8405-37bc6cf656fc",
   "metadata": {},
   "outputs": [
    {
     "data": {
      "text/plain": [
       "Index(['nonglu_price', 'hommali_price', 'agri_prod_index', 'crops_prod_index',\n",
       "       'paddy_prod_index', 'nonglu_prod_index', 'hommali_prod_index',\n",
       "       'agri_price_index', 'crops_price_index', 'paddy_price_index',\n",
       "       'nonglu_price_index', 'hommali_price_index', 'agri_export_value',\n",
       "       'rice_export_value', 'ricet_export_amount', 'cpi', 'cpi_rice',\n",
       "       'pol_rate', 'neer', 'reer', 'sirikit_water', 'bhumibol_water',\n",
       "       'fertilizer_1', 'fertilizer_2', 'fertilizer_3', 'fertilizer_4',\n",
       "       'fertilizer_5', 'fertilizer_6', 'water_station_B10',\n",
       "       'water_station_C13', 'water_station_C2', 'water_station_G8',\n",
       "       'water_station_K10', 'water_station_K11A', 'water_station_Kgt3',\n",
       "       'water_station_Kh103', 'water_station_Kh58A', 'water_station_Kh72',\n",
       "       'water_station_M6A', 'water_station_M7', 'water_station_N1',\n",
       "       'water_station_N67', 'water_station_Ny1B', 'water_station_P1',\n",
       "       'water_station_P17', 'water_station_S4B', 'water_station_Sw5A',\n",
       "       'water_station_Y17', 'water_station_Y1C'],\n",
       "      dtype='object')"
      ]
     },
     "execution_count": 44,
     "metadata": {},
     "output_type": "execute_result"
    }
   ],
   "source": [
    "df.columns"
   ]
  },
  {
   "cell_type": "code",
   "execution_count": 46,
   "id": "73301b81-fe1e-4b56-ae40-d54e412a5ba8",
   "metadata": {},
   "outputs": [
    {
     "data": {
      "text/plain": [
       "(226, 49)"
      ]
     },
     "execution_count": 46,
     "metadata": {},
     "output_type": "execute_result"
    }
   ],
   "source": [
    "df.shape"
   ]
  },
  {
   "cell_type": "markdown",
   "id": "ce0908b5-454a-476c-a858-f504fc9774b1",
   "metadata": {},
   "source": [
    "# Stationarity Check"
   ]
  },
  {
   "cell_type": "code",
   "execution_count": 49,
   "id": "4eed2112-0b1d-4f31-ab91-1ec3923b470d",
   "metadata": {},
   "outputs": [
    {
     "name": "stdout",
     "output_type": "stream",
     "text": [
      "ADF Statistic: -3.302824716654775\n",
      "p-value: 0.014752680770463844\n",
      "Critical Values:\n",
      "   1%: -3.4604283689894815\n",
      "   5%: -2.874768966942149\n",
      "   10%: -2.57382076446281\n"
     ]
    }
   ],
   "source": [
    "result = adfuller(df['nonglu_price'])\n",
    "print('ADF Statistic:', result[0])\n",
    "print('p-value:', result[1])\n",
    "print('Critical Values:')\n",
    "for key, value in result[4].items():\n",
    "    print(f'   {key}: {value}')"
   ]
  },
  {
   "cell_type": "code",
   "execution_count": 51,
   "id": "3c4f4296-11c9-480d-aa10-d01bd8db7186",
   "metadata": {},
   "outputs": [],
   "source": [
    "# ADF Statistic = -3.303\n",
    "# A highly negative value generally indicates evidence against the null hypothesis \n",
    "# (non-stationarity). However, the magnitude alone is not the only determinant; \n",
    "# the test's critical values must also be considered for confirmation.\n",
    "\n",
    "# More negative than both the 5% (-2.875) and 10% (-2.574) critical values\n",
    "# But not more negative than the 1% critical value (-3.460)\n",
    "# This means one can reject the null hypothesis of non-stationarity at the 5% confidence level \n",
    "# (which we're using down below) but not at the 1% level (which is basically fine here)\n",
    "# The p-value of 0.015 confirms this, as it's less than 0.05 but greater than 0.01\n",
    "\n",
    "# p-value = 0.015\n",
    "# This is less than the standard 0.05 significance level\n",
    "# Therefore, we reject the null hypothesis of non-stationarity\n",
    "# This output justifies rejecting the null hypothesis that the series is non-stationary."
   ]
  },
  {
   "cell_type": "markdown",
   "id": "be7f935d-01bd-460e-a741-5350e48cfbc5",
   "metadata": {},
   "source": [
    "# Model"
   ]
  },
  {
   "cell_type": "code",
   "execution_count": 54,
   "id": "e0dc0505-7ee6-40af-8425-1667daca9236",
   "metadata": {},
   "outputs": [],
   "source": [
    "# Create the differenced target\n",
    "y = df['nonglu_price'].diff().dropna()\n",
    "\n",
    "# Define independent variables (predictors) list\n",
    "xvars = ['hommali_price', 'agri_prod_index', 'crops_prod_index',\n",
    "        'paddy_prod_index', 'nonglu_prod_index', 'hommali_prod_index',\n",
    "       'agri_price_index', 'crops_price_index', 'paddy_price_index', 'agri_export_value',\n",
    "       'rice_export_value', 'ricet_export_amount', 'cpi', 'cpi_rice',\n",
    "       'pol_rate', 'neer', 'reer', 'sirikit_water', 'bhumibol_water',\n",
    "       'fertilizer_1', 'fertilizer_2', 'fertilizer_3', 'fertilizer_4',\n",
    "       'fertilizer_5', 'fertilizer_6','water_station_B10',\n",
    "       'water_station_C13', 'water_station_C2', 'water_station_G8',\n",
    "       'water_station_K10', 'water_station_K11A', 'water_station_Kgt3',\n",
    "       'water_station_Kh103', 'water_station_Kh58A', 'water_station_Kh72',\n",
    "       'water_station_M6A', 'water_station_M7', 'water_station_N1',\n",
    "       'water_station_N67', 'water_station_Ny1B', 'water_station_P1',\n",
    "       'water_station_P17', 'water_station_S4B', 'water_station_Sw5A',\n",
    "       'water_station_Y17', 'water_station_Y1C']\n",
    "\n",
    "# Adjust X to match the same periods\n",
    "# Remove the first row to match diff_data\n",
    "X = df[xvars].iloc[1:]\n",
    "\n",
    "# Split data into training and test sets\n",
    "# shuffle=False maintains time order (crucial for time series!)\n",
    "# test_size=20 reserves last 20 observations for testing\n",
    "X_train, X_test, y_train, y_test = train_test_split(X, y, shuffle=False, test_size=20)"
   ]
  },
  {
   "cell_type": "code",
   "execution_count": 56,
   "id": "6d666492-62d4-4db9-8a8a-84374060be02",
   "metadata": {},
   "outputs": [
    {
     "data": {
      "text/plain": [
       "((205, 46), (20, 46), (205,), (20,))"
      ]
     },
     "execution_count": 56,
     "metadata": {},
     "output_type": "execute_result"
    }
   ],
   "source": [
    "X_train.shape, X_test.shape, y_train.shape, y_test.shape"
   ]
  },
  {
   "cell_type": "markdown",
   "id": "a1ed3f23-b68e-4d5c-a91f-5dc185367b36",
   "metadata": {},
   "source": [
    "## Model 1 : ARIMAX"
   ]
  },
  {
   "cell_type": "code",
   "execution_count": 60,
   "id": "e8ba7b3b-7f00-4edd-8d4e-d360a1380e6c",
   "metadata": {},
   "outputs": [],
   "source": [
    "# Fit an ARIMA model with exogenous variables (also called ARIMAX)\n",
    "\n",
    "y_train.index.freq = 'MS'\n",
    "X_train.index.freq = 'MS'\n",
    "\n",
    "model_1 = ARIMA(\n",
    "    y_train,                 # Dependent variable (nonglu_price)\n",
    "    exog=X_train,            # External variables \n",
    "    order=(2, 1, 2)).fit()   # ARIMA parameters: (p=2, d=1, q=2)"
   ]
  },
  {
   "cell_type": "code",
   "execution_count": 63,
   "id": "7cc10401-0884-4ff5-b4e2-46eb8b4649ca",
   "metadata": {},
   "outputs": [],
   "source": [
    "# model_1.summary()"
   ]
  },
  {
   "cell_type": "code",
   "execution_count": 65,
   "id": "42190105-8d9f-4250-a761-2dfdc6186fa2",
   "metadata": {},
   "outputs": [],
   "source": [
    "# Generate predictions on the test set\n",
    "preds_1 = model_1.predict(\n",
    "   start=X_test.index[0],    # Start forecasting from first test observation\n",
    "   end=X_test.index[-1],     # Continue until last test observation\n",
    "   exog=X_test)"
   ]
  },
  {
   "cell_type": "code",
   "execution_count": 67,
   "id": "2466e1ac-94cb-41b3-8b62-1b3ecdf1426e",
   "metadata": {},
   "outputs": [
    {
     "data": {
      "text/plain": [
       "1617299.1014717766"
      ]
     },
     "execution_count": 67,
     "metadata": {},
     "output_type": "execute_result"
    }
   ],
   "source": [
    "# Evaluate the model_1\n",
    "model_1_mse = mean_squared_error(y_test, preds_1)\n",
    "model_1_mse"
   ]
  },
  {
   "cell_type": "code",
   "execution_count": 69,
   "id": "4aba7e79-3460-4dda-a584-60283ef35ded",
   "metadata": {},
   "outputs": [
    {
     "data": {
      "image/png": "[encoded data removed]",
      "text/plain": [
       "<Figure size 1200x600 with 1 Axes>"
      ]
     },
     "metadata": {},
     "output_type": "display_data"
    }
   ],
   "source": [
    "# Plot \n",
    "plt.figure(figsize=(12, 6))\n",
    "plt.plot(y_train, c='navy', label='True Values')\n",
    "plt.plot(y_test, c='navy', linestyle='dashed')\n",
    "plt.plot(preds_1, c='skyblue', label='Pred Values')\n",
    "plt.legend()\n",
    "plt.show()"
   ]
  },
  {
   "cell_type": "markdown",
   "id": "832fac48-770d-4c8d-b1dd-1e3c5d13e969",
   "metadata": {},
   "source": [
    "## Model 2 : ARIMAX with hyperparameter"
   ]
  },
  {
   "cell_type": "code",
   "execution_count": null,
   "id": "78f020ba-b18d-4365-9fd1-1cbac4cef919",
   "metadata": {},
   "outputs": [
    {
     "name": "stderr",
     "output_type": "stream",
     "text": [
      "/opt/anaconda3/lib/python3.12/site-packages/statsmodels/base/model.py:607: ConvergenceWarning: Maximum Likelihood optimization failed to converge. Check mle_retvals\n",
      "  warnings.warn(\"Maximum Likelihood optimization failed to \"\n"
     ]
    }
   ],
   "source": [
    "# Define the range of p, d, q values to search\n",
    "p_values = range(0, 3)\n",
    "d_values = range(0, 1)\n",
    "q_values = range(0, 3)\n",
    "\n",
    "# Prepare a list of all combinations\n",
    "param_combinations = list(itertools.product(p_values, d_values, q_values))\n",
    "\n",
    "# Store results\n",
    "best_params = None\n",
    "best_mse = float(\"inf\")\n",
    "results = []\n",
    "\n",
    "# Iterate through parameter combinations\n",
    "for params in param_combinations:\n",
    "    try:\n",
    "        model = ARIMA(y_train, exog=X_train, order=params, freq='MS').fit()\n",
    "        # Only evaluate if model converged\n",
    "        if model.mle_retvals['converged']:\n",
    "            preds = model.predict(start=X_test.index[0], end=X_test.index[-1], exog=X_test)\n",
    "            mse = mean_squared_error(y_test, preds)\n",
    "            results.append((params, mse))\n",
    "            if mse < best_mse:\n",
    "                best_mse = mse\n",
    "                best_params = params\n",
    "    except Exception as e:\n",
    "        continue\n",
    "\n",
    "# Display the best parameters\n",
    "print(f\"Best Parameters: {best_params}, MSE: {best_mse}\")\n",
    "\n",
    "# Create a DataFrame of results for inspection\n",
    "results_df = pd.DataFrame(results, columns=[\"Parameters\", \"MSE\"])"
   ]
  },
  {
   "cell_type": "code",
   "execution_count": null,
   "id": "4c788390-21ed-4b58-93bf-b3f9de277159",
   "metadata": {},
   "outputs": [],
   "source": [
    "# Fit an ARIMA model with exogenous variables (also called ARIMAX)\n",
    "model_2 = ARIMA(\n",
    "    y_train,           # Dependent variable (nonglu_price)\n",
    "    exog=X_train,      # External variables \n",
    "    order=(0, 0, 1),   # ARIMA parameters: (p=0, d=0, q=1)\n",
    "    freq = 'MS'        # Monthly data\n",
    ").fit()"
   ]
  },
  {
   "cell_type": "code",
   "execution_count": null,
   "id": "bc609c25-4a9a-43f4-b5ea-c950a69d8ae0",
   "metadata": {},
   "outputs": [],
   "source": [
    "# Generate predictions on the test set\n",
    "preds_2 = model_2.predict(\n",
    "   start=X_test.index[0],    # Start forecasting from first test observation\n",
    "   end=X_test.index[-1],     # Continue until last test observation\n",
    "   exog=X_test)"
   ]
  },
  {
   "cell_type": "code",
   "execution_count": null,
   "id": "c48668a2-0fd2-48ea-a826-e32bd0db701d",
   "metadata": {},
   "outputs": [],
   "source": [
    "# Evaluate the model_2\n",
    "model_2_mse = mean_squared_error(y_test, preds_2)\n",
    "model_2_mse"
   ]
  },
  {
   "cell_type": "code",
   "execution_count": null,
   "id": "39680597-0ee3-4284-8d5e-df745a98cab4",
   "metadata": {},
   "outputs": [],
   "source": [
    "# Plot \n",
    "plt.figure(figsize=(12, 6))\n",
    "plt.plot(y_train, c='navy', label='True Values')\n",
    "plt.plot(y_test, c='navy', linestyle='dashed')\n",
    "plt.plot(preds_2, c='skyblue', label='Pred Values')\n",
    "plt.legend()\n",
    "plt.show()"
   ]
  },
  {
   "cell_type": "markdown",
   "id": "992b2290-dc5e-4c56-aaee-026c13c44b8e",
   "metadata": {},
   "source": [
    "## Model 3 : Auto_arima"
   ]
  },
  {
   "cell_type": "code",
   "execution_count": null,
   "id": "d926fadc-cdee-4d87-be65-e546d9432d8e",
   "metadata": {},
   "outputs": [],
   "source": [
    "# Automatically tune ARIMA parameters\n",
    "auto_model = auto_arima(\n",
    "    y_train, \n",
    "    exogenous=X_train,\n",
    "    start_p=0, max_p=4,\n",
    "    start_q=0, max_q=4,\n",
    "    d=None,                  # Automatically determine 'd'\n",
    "    seasonal=False,  \n",
    "    trace=True,              # Show the tuning process\n",
    "    error_action='ignore',   # Skip invalid configurations\n",
    "    suppress_warnings=True,\n",
    "    stepwise=True            # Use stepwise search to reduce computation\n",
    ")\n",
    "\n",
    "# Best parameters\n",
    "print(auto_model.summary())"
   ]
  },
  {
   "cell_type": "code",
   "execution_count": null,
   "id": "1e546449-a06b-4aa2-9bc5-6ed3d52ca6d1",
   "metadata": {},
   "outputs": [],
   "source": [
    "# Fit an ARIMA model with exogenous variables (also called ARIMAX)\n",
    "model_3 = ARIMA(\n",
    "    y_train,           # Dependent variable (nonglu_price)\n",
    "    exog=X_train,      # External variables \n",
    "    order=(1, 0, 0),   # ARIMA parameters: (p=0, d=0, q=1)\n",
    "    freq = 'MS'        # Monthly data\n",
    ").fit()"
   ]
  },
  {
   "cell_type": "code",
   "execution_count": null,
   "id": "14d24792-6105-43fa-bad3-1d60a7dbad33",
   "metadata": {},
   "outputs": [],
   "source": [
    "# Generate predictions on the test set\n",
    "preds_3 = model_3.predict(\n",
    "   start=X_test.index[0],    # Start forecasting from first test observation\n",
    "   end=X_test.index[-1],     # Continue until last test observation\n",
    "   exog=X_test)"
   ]
  },
  {
   "cell_type": "code",
   "execution_count": null,
   "id": "37e7a289-4a8a-484e-a586-b9a1bf05fe31",
   "metadata": {},
   "outputs": [],
   "source": [
    "# Evaluate the model_3\n",
    "model_3_mse = mean_squared_error(y_test, preds_3)\n",
    "model_3_mse"
   ]
  },
  {
   "cell_type": "code",
   "execution_count": null,
   "id": "c285997c-d36b-4610-8ac4-e6d206f65254",
   "metadata": {},
   "outputs": [],
   "source": [
    "# Plot \n",
    "plt.figure(figsize=(12, 6))\n",
    "plt.plot(y_train, c='navy', label='True Values')\n",
    "plt.plot(y_test, c='navy', linestyle='dashed')\n",
    "plt.plot(preds_3, c='skyblue', label='Pred Values')\n",
    "plt.legend()\n",
    "plt.show()"
   ]
  },
  {
   "cell_type": "markdown",
   "id": "74895b20-7967-4d76-b9a5-0601dc1cdaca",
   "metadata": {},
   "source": [
    "## Model 4 : Hyperparameter tuning with Keras Tuner"
   ]
  },
  {
   "cell_type": "code",
   "execution_count": 37,
   "id": "8cf03225-d366-474a-b042-be507ffac6cd",
   "metadata": {},
   "outputs": [],
   "source": [
    "def build_time_series_model(hp, input_shape=(20,1)):\n",
    "    inputs = tf.keras.Input(shape=input_shape)\n",
    "    x = inputs\n",
    "    \n",
    "    # Store number of LSTM layers once to avoid repeated calls\n",
    "    n_lstm_layers = hp.Int('lstm_layers', 1, 3)\n",
    "    \n",
    "    # LSTM layers\n",
    "    for i in range(n_lstm_layers):\n",
    "        units = hp.Int(f'lstm_units_{i}', min_value=32, max_value=128, step=32)\n",
    "        return_sequences = i < n_lstm_layers - 1\n",
    "        \n",
    "        # Add LSTM with regularization\n",
    "        x = tf.keras.layers.LSTM(\n",
    "            units, \n",
    "            return_sequences=return_sequences,\n",
    "            kernel_regularizer=tf.keras.regularizers.l2(0.01)\n",
    "        )(x)\n",
    "        \n",
    "        # Add dropout after each LSTM layer\n",
    "        x = tf.keras.layers.Dropout(hp.Float(f'dropout_{i}', 0.1, 0.3, step=0.1))(x)\n",
    "\n",
    "    # Dense layers with fixed dropout\n",
    "    x = tf.keras.layers.Dense(\n",
    "        hp.Int('dense_units', 16, 128, step=16),\n",
    "        activation='relu',\n",
    "        kernel_regularizer=tf.keras.regularizers.l2(0.01)\n",
    "    )(x)\n",
    "    x = tf.keras.layers.Dropout(0.2)(x)\n",
    "\n",
    "    # Output layer\n",
    "    outputs = tf.keras.layers.Dense(1)(x)\n",
    "\n",
    "    # Model compilation\n",
    "    model = tf.keras.Model(inputs, outputs)\n",
    "    model.compile(\n",
    "        optimizer=tf.keras.optimizers.Adam(\n",
    "            hp.Float('learning_rate', 1e-4, 1e-3, sampling='log')\n",
    "        ),\n",
    "        loss='mse',\n",
    "        metrics=['mae', 'mse']\n",
    "    )\n",
    "    \n",
    "    return model"
   ]
  },
  {
   "cell_type": "code",
   "execution_count": null,
   "id": "83b72cd4-a5c1-4fb6-ae15-03bb00de3f29",
   "metadata": {},
   "outputs": [],
   "source": []
  }
 ],
 "metadata": {
  "kernelspec": {
   "display_name": "Python 3 (ipykernel)",
   "language": "python",
   "name": "python3"
  },
  "language_info": {
   "codemirror_mode": {
    "name": "ipython",
    "version": 3
   },
   "file_extension": ".py",
   "mimetype": "text/x-python",
   "name": "python",
   "nbconvert_exporter": "python",
   "pygments_lexer": "ipython3",
   "version": "3.12.4"
  }
 },
 "nbformat": 4,
 "nbformat_minor": 5
}
