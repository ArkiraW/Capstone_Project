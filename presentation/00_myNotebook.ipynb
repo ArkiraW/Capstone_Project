{
 "cells": [
  {
   "cell_type": "markdown",
   "id": "2d59ec9f-2027-481b-a3e1-765eb7ae9c33",
   "metadata": {},
   "source": [
    "# Python Bootcamo (DSI04)\n",
    "## Date : 26 Sept, 2024\n",
    "1. Intro to Python\n",
    "2. Variables\n",
    "3. Conditional statements"
   ]
  },
  {
   "cell_type": "code",
   "execution_count": 7,
   "id": "35f7924e-223e-4abf-811f-8dc4c1c43871",
   "metadata": {},
   "outputs": [
    {
     "name": "stdout",
     "output_type": "stream",
     "text": [
      "Hello\n"
     ]
    }
   ],
   "source": [
    "print(\"Hello\")"
   ]
  },
  {
   "cell_type": "code",
   "execution_count": 14,
   "id": "21624f73-337d-4b39-a853-725328ceecc4",
   "metadata": {},
   "outputs": [
    {
     "data": {
      "text/plain": [
       "4"
      ]
     },
     "execution_count": 14,
     "metadata": {},
     "output_type": "execute_result"
    }
   ],
   "source": [
    "2+2"
   ]
  },
  {
   "cell_type": "code",
   "execution_count": 16,
   "id": "4b56c378-811f-42cc-be7b-cbf5ed20cd55",
   "metadata": {},
   "outputs": [
    {
     "name": "stdout",
     "output_type": "stream",
     "text": [
      "Python\n"
     ]
    }
   ],
   "source": [
    "print(\"Python\")"
   ]
  },
  {
   "cell_type": "code",
   "execution_count": 30,
   "id": "b3f86f97-930c-4303-a39d-cf82b3e150c6",
   "metadata": {},
   "outputs": [
    {
     "name": "stdout",
     "output_type": "stream",
     "text": [
      "Hello\n",
      "python\n"
     ]
    }
   ],
   "source": [
    "print(\"Hello\")\n",
    "3+7\n",
    "print(\"python\")"
   ]
  },
  {
   "cell_type": "code",
   "execution_count": 37,
   "id": "4fd53eb8-2842-4555-a797-93e3664bbf00",
   "metadata": {},
   "outputs": [
    {
     "name": "stdout",
     "output_type": "stream",
     "text": [
      "Hello\n"
     ]
    }
   ],
   "source": [
    "3+7\n",
    "print(\"Hello\")"
   ]
  },
  {
   "cell_type": "code",
   "execution_count": null,
   "id": "8274e6c9-2cde-4501-ac2f-f9695d11d779",
   "metadata": {},
   "outputs": [],
   "source": []
  }
 ],
 "metadata": {
  "kernelspec": {
   "display_name": "Python 3 (ipykernel)",
   "language": "python",
   "name": "python3"
  },
  "language_info": {
   "codemirror_mode": {
    "name": "ipython",
    "version": 3
   },
   "file_extension": ".py",
   "mimetype": "text/x-python",
   "name": "python",
   "nbconvert_exporter": "python",
   "pygments_lexer": "ipython3",
   "version": "3.12.4"
  }
 },
 "nbformat": 4,
 "nbformat_minor": 5
}
